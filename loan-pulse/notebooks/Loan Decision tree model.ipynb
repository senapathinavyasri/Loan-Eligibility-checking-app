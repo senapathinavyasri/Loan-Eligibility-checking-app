{
 "cells": [
  {
   "cell_type": "code",
   "execution_count": 1,
   "id": "4281c0cc",
   "metadata": {},
   "outputs": [
    {
     "name": "stdout",
     "output_type": "stream",
     "text": [
      "     Gender  Married  Dependents  Education  Self_Employed  ApplicantIncome  \\\n",
      "266     1.0      1.0         0.0        0.0            0.0           5829.0   \n",
      "192     1.0      1.0         1.0        0.0            0.0           1625.0   \n",
      "46      1.0      1.0         4.0        0.0            0.0           3029.0   \n",
      "55      1.0      1.0         1.0        0.0            1.0           1000.0   \n",
      "57      0.0      0.0         0.0        0.0            0.0           3846.0   \n",
      "..      ...      ...         ...        ...            ...              ...   \n",
      "165     1.0      1.0         2.0        0.0            0.0           4708.0   \n",
      "63      1.0      1.0         2.0        1.0            0.0           3273.0   \n",
      "249     1.0      1.0         2.0        0.0            0.0           3276.0   \n",
      "280     0.0      1.0         0.0        1.0            1.0           7142.0   \n",
      "357     0.0      0.0         0.0        0.0            0.0           2378.0   \n",
      "\n",
      "     CoapplicantIncome  LoanAmount  Loan_Amount_Term  Credit_History  \\\n",
      "266                0.0       138.0             360.0             1.0   \n",
      "192             1803.0        96.0             360.0             1.0   \n",
      "46                 0.0        99.0             360.0             1.0   \n",
      "55              3022.0       110.0             360.0             1.0   \n",
      "57                 0.0       111.0             360.0             1.0   \n",
      "..                 ...         ...               ...             ...   \n",
      "165             1387.0       150.0             360.0             1.0   \n",
      "63              1820.0        81.0             360.0             1.0   \n",
      "249              484.0       135.0             360.0             2.0   \n",
      "280                0.0       138.0             360.0             1.0   \n",
      "357                0.0         9.0             360.0             1.0   \n",
      "\n",
      "     Property_Area  \n",
      "266            0.0  \n",
      "192            2.0  \n",
      "46             2.0  \n",
      "55             2.0  \n",
      "57             1.0  \n",
      "..             ...  \n",
      "165            1.0  \n",
      "63             2.0  \n",
      "249            1.0  \n",
      "280            0.0  \n",
      "357            2.0  \n",
      "\n",
      "[77 rows x 11 columns]\n",
      "[1. 1. 0. 1. 1. 1. 0. 1. 0. 1. 1. 1. 1. 0. 1. 0. 1. 1. 1. 1. 0. 1. 0. 0.\n",
      " 0. 0. 1. 1. 1. 1. 1. 1. 1. 0. 1. 1. 1. 1. 1. 1. 1. 1. 1. 0. 1. 0. 1. 1.\n",
      " 1. 1. 1. 1. 1. 1. 1. 1. 1. 1. 1. 1. 1. 1. 1. 0. 1. 1. 0. 0. 1. 1. 1. 1.\n",
      " 1. 1. 0. 1. 0.]\n",
      "Accuracy: 0.70\n",
      "Classification Report:\n",
      "               precision    recall  f1-score   support\n",
      "\n",
      "         0.0       0.44      0.38      0.41        21\n",
      "         1.0       0.78      0.82      0.80        56\n",
      "\n",
      "    accuracy                           0.70        77\n",
      "   macro avg       0.61      0.60      0.61        77\n",
      "weighted avg       0.69      0.70      0.69        77\n",
      "\n"
     ]
    }
   ],
   "source": [
    "import pandas as pd\n",
    "from sklearn.model_selection import train_test_split\n",
    "from sklearn.impute import SimpleImputer\n",
    "from sklearn.preprocessing import LabelEncoder\n",
    "from sklearn.tree import DecisionTreeClassifier\n",
    "from sklearn.metrics import accuracy_score, classification_report\n",
    "\n",
    "data = pd.read_csv(\"loan_data.csv\")\n",
    "\n",
    "data.head()\n",
    "\n",
    "data.drop('Loan_ID', axis=1, inplace=True)\n",
    "\n",
    "label_encoder = LabelEncoder()\n",
    "data['Gender'] = label_encoder.fit_transform(data['Gender'])\n",
    "data['Married'] = label_encoder.fit_transform(data['Married'])\n",
    "data['Education'] = label_encoder.fit_transform(data['Education'])\n",
    "data['Self_Employed'] = label_encoder.fit_transform(data['Self_Employed'])\n",
    "data['Credit_History'] = label_encoder.fit_transform(data['Credit_History'])\n",
    "data['Property_Area'] = label_encoder.fit_transform(data['Property_Area'])\n",
    "data['Loan_Status'] = label_encoder.fit_transform(data['Loan_Status'])\n",
    "\n",
    "# Replace '3+' with '4'\n",
    "data['Dependents'].replace('3+', '4', inplace=True)\n",
    "data['Dependents'] = pd.to_numeric(data['Dependents'])\n",
    "\n",
    "imputer = SimpleImputer(strategy='mean')\n",
    "imputed_data = pd.DataFrame(imputer.fit_transform(data), columns=data.columns)\n",
    "\n",
    "X = imputed_data.drop('Loan_Status', axis=1)\n",
    "y = imputed_data['Loan_Status']\n",
    "\n",
    "X_train, X_test, y_train, y_test = train_test_split(X, y, test_size=0.2, random_state=42)\n",
    "\n",
    "classifier = DecisionTreeClassifier()\n",
    "\n",
    "classifier.fit(X_train, y_train)\n",
    "print(X_test)\n",
    "\n",
    "y_pred = classifier.predict(X_test)\n",
    "\n",
    "print(y_pred)\n",
    "\n",
    "accuracy = accuracy_score(y_test, y_pred)\n",
    "print(f\"Accuracy: {accuracy:.2f}\")\n",
    "\n",
    "report = classification_report(y_test, y_pred)\n",
    "print(\"Classification Report:\\n\", report)"
   ]
  },
  {
   "cell_type": "code",
   "execution_count": 2,
   "id": "36aae3f9",
   "metadata": {},
   "outputs": [
    {
     "data": {
      "text/plain": [
       "['./../saved_models/decision.joblib']"
      ]
     },
     "execution_count": 2,
     "metadata": {},
     "output_type": "execute_result"
    }
   ],
   "source": [
    "from joblib import dump\n",
    "dump(classifier,'./../saved_models/decision.joblib')"
   ]
  }
 ],
 "metadata": {
  "kernelspec": {
   "display_name": "Python 3 (ipykernel)",
   "language": "python",
   "name": "python3"
  },
  "language_info": {
   "codemirror_mode": {
    "name": "ipython",
    "version": 3
   },
   "file_extension": ".py",
   "mimetype": "text/x-python",
   "name": "python",
   "nbconvert_exporter": "python",
   "pygments_lexer": "ipython3",
   "version": "3.7.9"
  }
 },
 "nbformat": 4,
 "nbformat_minor": 5
}
