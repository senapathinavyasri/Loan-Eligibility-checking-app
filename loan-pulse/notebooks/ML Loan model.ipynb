{
 "cells": [
  {
   "cell_type": "code",
   "execution_count": 3,
   "id": "8992b837",
   "metadata": {},
   "outputs": [
    {
     "name": "stdout",
     "output_type": "stream",
     "text": [
      "Predicted Loan Status: N\n",
      "Accuracy: 0.8181818181818182\n",
      "Classification Report:\n",
      "               precision    recall  f1-score   support\n",
      "\n",
      "           N       1.00      0.33      0.50        21\n",
      "           Y       0.80      1.00      0.89        56\n",
      "\n",
      "    accuracy                           0.82        77\n",
      "   macro avg       0.90      0.67      0.69        77\n",
      "weighted avg       0.85      0.82      0.78        77\n",
      "\n"
     ]
    }
   ],
   "source": [
    "import pandas as pd\n",
    "from sklearn.model_selection import train_test_split\n",
    "from sklearn.ensemble import RandomForestClassifier\n",
    "from sklearn.preprocessing import StandardScaler\n",
    "from sklearn.metrics import accuracy_score, classification_report\n",
    "from sklearn.compose import make_column_transformer\n",
    "from sklearn.preprocessing import OneHotEncoder\n",
    "import pickle\n",
    "\n",
    "# Load the data\n",
    "data = pd.read_csv('loan_data.csv')\n",
    "data.fillna(data.mode().iloc[0], inplace=True)\n",
    "\n",
    "# Drop loan_id column\n",
    "data = data.iloc[:, 1:]\n",
    "\n",
    "data['Dependents'].replace('3+', '4', inplace=True)\n",
    "data['Dependents'] = pd.to_numeric(data['Dependents'])\n",
    "\n",
    "# Ensure categorical columns are recognized\n",
    "data['Gender'] = data['Gender'].astype('category')\n",
    "data['Married'] = data['Married'].astype('category')\n",
    "data['Education'] = data['Education'].astype('category')\n",
    "data['Self_Employed'] = data['Self_Employed'].astype('category')\n",
    "data['Credit_History'] = data['Credit_History'].astype('category')\n",
    "data['Property_Area'] = data['Property_Area'].astype('category')\n",
    "\n",
    "# Split the data into features (X) and target (y)\n",
    "X = data.drop('Loan_Status', axis=1)\n",
    "y = data['Loan_Status']\n",
    "\n",
    "# Split the data into training and testing sets\n",
    "X_train, X_test, y_train, y_test = train_test_split(X, y, test_size=0.2, random_state=42)\n",
    "\n",
    "# Create a column transformer for feature scaling\n",
    "categorical_features = list(X.select_dtypes(include=['category']).columns)\n",
    "numeric_features = list(X.select_dtypes(exclude=['category']).columns)\n",
    "\n",
    "preprocessor = make_column_transformer(\n",
    "    (OneHotEncoder(sparse=False, handle_unknown='ignore'), categorical_features),\n",
    "    (StandardScaler(), numeric_features)\n",
    ")\n",
    "\n",
    "# Fit and transform the data\n",
    "X_train_transformed = preprocessor.fit_transform(X_train)\n",
    "X_test_transformed = preprocessor.transform(X_test)\n",
    "\n",
    "# Create and train the model\n",
    "model = RandomForestClassifier()\n",
    "model.fit(X_train_transformed, y_train)\n",
    "\n",
    "# Save the trained model\n",
    "with open('trained_model.pkl', 'wb') as model_file:\n",
    "    pickle.dump(model, model_file)\n",
    "\n",
    "# Load the trained model\n",
    "with open('trained_model.pkl', 'rb') as model_file:\n",
    "    trained_model = pickle.load(model_file)\n",
    "\n",
    "# Make predictions\n",
    "# Assume X_new is the new user input data\n",
    "\n",
    "X_new = [['Male', 'Yes', 3, 'Graduate', 'Yes', 0, 1000, 5000000, 36, 'Yes', 'Urban']]\n",
    "\n",
    "# Convert X_new to a DataFrame\n",
    "X_new_df = pd.DataFrame(X_new, columns=X.columns)\n",
    "\n",
    "# Ensure categorical columns are recognized\n",
    "X_new_df['Gender'] = X_new_df['Gender'].astype('category')\n",
    "X_new_df['Married'] = X_new_df['Married'].astype('category')\n",
    "X_new_df['Education'] = X_new_df['Education'].astype('category')\n",
    "X_new_df['Self_Employed'] = X_new_df['Self_Employed'].astype('category')\n",
    "X_new_df['Credit_History'] = X_new_df['Credit_History'].astype('category')\n",
    "X_new_df['Property_Area'] = X_new_df['Property_Area'].astype('category')\n",
    "\n",
    "# Apply the same transformations to the new data as done during training\n",
    "X_new_transformed = preprocessor.transform(X_new_df)\n",
    "\n",
    "# Make predictions\n",
    "prediction = trained_model.predict(X_new_transformed)\n",
    "\n",
    "# Print the prediction\n",
    "print(\"Predicted Loan Status:\", prediction[0])\n",
    "\n",
    "# Evaluate the model\n",
    "y_pred = trained_model.predict(X_test_transformed)\n",
    "print(\"Accuracy:\", accuracy_score(y_test, y_pred))\n",
    "print(\"Classification Report:\\n\", classification_report(y_test, y_pred))"
   ]
  },
  {
   "cell_type": "code",
   "execution_count": 4,
   "id": "00896f5c",
   "metadata": {},
   "outputs": [
    {
     "data": {
      "text/plain": [
       "['./../saved_models/model.joblib']"
      ]
     },
     "execution_count": 4,
     "metadata": {},
     "output_type": "execute_result"
    }
   ],
   "source": [
    "from joblib import dump\n",
    "dump(model,'./../saved_models/model.joblib')"
   ]
  }
 ],
 "metadata": {
  "kernelspec": {
   "display_name": "Python 3 (ipykernel)",
   "language": "python",
   "name": "python3"
  },
  "language_info": {
   "codemirror_mode": {
    "name": "ipython",
    "version": 3
   },
   "file_extension": ".py",
   "mimetype": "text/x-python",
   "name": "python",
   "nbconvert_exporter": "python",
   "pygments_lexer": "ipython3",
   "version": "3.7.9"
  }
 },
 "nbformat": 4,
 "nbformat_minor": 5
}
