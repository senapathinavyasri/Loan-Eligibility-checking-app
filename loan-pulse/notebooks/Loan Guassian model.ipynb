{
 "cells": [
  {
   "cell_type": "code",
   "execution_count": 4,
   "id": "b56cf656",
   "metadata": {},
   "outputs": [
    {
     "name": "stdout",
     "output_type": "stream",
     "text": [
      "Accuracy: 0.79\n",
      "Classification Report:\n",
      "               precision    recall  f1-score   support\n",
      "\n",
      "         0.0       0.78      0.33      0.47        21\n",
      "         1.0       0.79      0.96      0.87        56\n",
      "\n",
      "    accuracy                           0.79        77\n",
      "   macro avg       0.79      0.65      0.67        77\n",
      "weighted avg       0.79      0.79      0.76        77\n",
      "\n"
     ]
    }
   ],
   "source": [
    "import pandas as pd\n",
    "from sklearn.model_selection import train_test_split\n",
    "from sklearn.impute import SimpleImputer\n",
    "from sklearn.preprocessing import LabelEncoder\n",
    "from sklearn.naive_bayes import GaussianNB\n",
    "from sklearn.metrics import accuracy_score, classification_report\n",
    "\n",
    "data = pd.read_csv(\"loan_data.csv\")\n",
    "\n",
    "data.head()\n",
    "\n",
    "data.drop('Loan_ID', axis=1, inplace=True)\n",
    "\n",
    "label_encoder = LabelEncoder()\n",
    "data['Gender'] = label_encoder.fit_transform(data['Gender'])\n",
    "data['Married'] = label_encoder.fit_transform(data['Married'])\n",
    "data['Education'] = label_encoder.fit_transform(data['Education'])\n",
    "data['Self_Employed'] = label_encoder.fit_transform(data['Self_Employed'])\n",
    "data['Credit_History'] = label_encoder.fit_transform(data['Credit_History'])\n",
    "data['Property_Area'] = label_encoder.fit_transform(data['Property_Area'])\n",
    "data['Loan_Status'] = label_encoder.fit_transform(data['Loan_Status'])\n",
    "\n",
    "# Replace '3+' with '4'\n",
    "data['Dependents'].replace('3+', '4', inplace=True)\n",
    "data['Dependents'] = pd.to_numeric(data['Dependents'])\n",
    "\n",
    "imputer = SimpleImputer(strategy='mean')\n",
    "imputed_data = pd.DataFrame(imputer.fit_transform(data), columns=data.columns)\n",
    "\n",
    "X = imputed_data.drop('Loan_Status', axis=1)\n",
    "y = imputed_data['Loan_Status']\n",
    "\n",
    "X_train, X_test, y_train, y_test = train_test_split(X, y, test_size=0.2, random_state=42)\n",
    "\n",
    "classifier = GaussianNB()\n",
    "\n",
    "classifier.fit(X_train, y_train)\n",
    "\n",
    "y_pred = classifier.predict(X_test)\n",
    "\n",
    "accuracy = accuracy_score(y_test, y_pred)\n",
    "print(f\"Accuracy: {accuracy:.2f}\")\n",
    "\n",
    "report = classification_report(y_test, y_pred)\n",
    "print(\"Classification Report:\\n\", report)"
   ]
  },
  {
   "cell_type": "code",
   "execution_count": 5,
   "id": "882a79c0",
   "metadata": {},
   "outputs": [
    {
     "data": {
      "text/plain": [
       "['./../saved_models/gradient.joblib']"
      ]
     },
     "execution_count": 5,
     "metadata": {},
     "output_type": "execute_result"
    }
   ],
   "source": [
    "from joblib import dump\n",
    "dump(classifier,'./../saved_models/gradient.joblib')"
   ]
  },
  {
   "cell_type": "code",
   "execution_count": null,
   "id": "a3cfc140",
   "metadata": {},
   "outputs": [],
   "source": []
  }
 ],
 "metadata": {
  "kernelspec": {
   "display_name": "Python 3 (ipykernel)",
   "language": "python",
   "name": "python3"
  },
  "language_info": {
   "codemirror_mode": {
    "name": "ipython",
    "version": 3
   },
   "file_extension": ".py",
   "mimetype": "text/x-python",
   "name": "python",
   "nbconvert_exporter": "python",
   "pygments_lexer": "ipython3",
   "version": "3.7.9"
  }
 },
 "nbformat": 4,
 "nbformat_minor": 5
}
